{
 "cells": [
  {
   "cell_type": "code",
   "execution_count": null,
   "metadata": {},
   "outputs": [],
   "source": [
    "from si.data.dataset import Dataset\n",
    "import pandas as pd\n",
    "\n",
    "def read_csv(filename: str, sep:str, features:bool, label:bool) -> Dataset:\n",
    "   \n"
   ]
  },
  {
   "cell_type": "code",
   "execution_count": null,
   "metadata": {},
   "outputs": [],
   "source": [
    "from si.data.dataset import Dataset\n",
    "import pandas as pd\n",
    "\n",
    "def write_csv(filename: str, dataset, sep:str, features:bool, label:bool) -> Dataset:\n",
    "    df = pd.DataFrame(dataset.X)\n",
    "    \n",
    "    if features:\n",
    "        df.columns = dataset.features\n",
    "    \n",
    "    if label:\n",
    "        y = dataset.y\n",
    "        label_name = dataset.label\n",
    "    \n",
    "    else:\n",
    "        y = none \n",
    "        label_name = none\n",
    "    \n",
    "    df.to_csv(filename, sep = sep, index = False, header = features)\n",
    "    \n",
    "    \n"
   ]
  }
 ],
 "metadata": {
  "kernelspec": {
   "display_name": "venv",
   "language": "python",
   "name": "python3"
  },
  "language_info": {
   "name": "python",
   "version": "3.12.7"
  }
 },
 "nbformat": 4,
 "nbformat_minor": 2
}
